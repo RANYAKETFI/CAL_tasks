{
 "cells": [
  {
   "cell_type": "code",
   "execution_count": 1,
   "id": "f67fda8f",
   "metadata": {},
   "outputs": [],
   "source": [
    "import pandas as pd\n",
    "df=pd.read_csv('videosUS.csv')"
   ]
  },
  {
   "cell_type": "code",
   "execution_count": 2,
   "id": "6a20efee",
   "metadata": {},
   "outputs": [
    {
     "data": {
      "text/html": [
       "<div>\n",
       "<style scoped>\n",
       "    .dataframe tbody tr th:only-of-type {\n",
       "        vertical-align: middle;\n",
       "    }\n",
       "\n",
       "    .dataframe tbody tr th {\n",
       "        vertical-align: top;\n",
       "    }\n",
       "\n",
       "    .dataframe thead th {\n",
       "        text-align: right;\n",
       "    }\n",
       "</style>\n",
       "<table border=\"1\" class=\"dataframe\">\n",
       "  <thead>\n",
       "    <tr style=\"text-align: right;\">\n",
       "      <th></th>\n",
       "      <th>video_id</th>\n",
       "      <th>trending_date</th>\n",
       "      <th>title</th>\n",
       "      <th>channel_title</th>\n",
       "      <th>category_id</th>\n",
       "      <th>publish_time</th>\n",
       "      <th>tags</th>\n",
       "      <th>views</th>\n",
       "      <th>likes</th>\n",
       "      <th>dislikes</th>\n",
       "      <th>comment_count</th>\n",
       "      <th>thumbnail_link</th>\n",
       "      <th>comments_disabled</th>\n",
       "      <th>ratings_disabled</th>\n",
       "      <th>video_error_or_removed</th>\n",
       "      <th>description</th>\n",
       "    </tr>\n",
       "  </thead>\n",
       "  <tbody>\n",
       "    <tr>\n",
       "      <th>0</th>\n",
       "      <td>2kyS6SvSYSE</td>\n",
       "      <td>17.14.11</td>\n",
       "      <td>WE WANT TO TALK ABOUT OUR MARRIAGE</td>\n",
       "      <td>CaseyNeistat</td>\n",
       "      <td>22.0</td>\n",
       "      <td>2017-11-13T17:13:01.000Z</td>\n",
       "      <td>SHANtell martin</td>\n",
       "      <td>748374.0</td>\n",
       "      <td>57527.0</td>\n",
       "      <td>2966.0</td>\n",
       "      <td>15954.0</td>\n",
       "      <td>https://i.ytimg.com/vi/2kyS6SvSYSE/default.jpg</td>\n",
       "      <td>False</td>\n",
       "      <td>False</td>\n",
       "      <td>False</td>\n",
       "      <td>SHANTELL'S CHANNEL - https://www.youtube.com/s...</td>\n",
       "    </tr>\n",
       "    <tr>\n",
       "      <th>1</th>\n",
       "      <td>1ZAPwfrtAFY</td>\n",
       "      <td>17.14.11</td>\n",
       "      <td>The Trump Presidency: Last Week Tonight with J...</td>\n",
       "      <td>LastWeekTonight</td>\n",
       "      <td>24.0</td>\n",
       "      <td>2017-11-13T07:30:00.000Z</td>\n",
       "      <td>last week tonight trump presidency|\"last week ...</td>\n",
       "      <td>2418783.0</td>\n",
       "      <td>97185.0</td>\n",
       "      <td>6146.0</td>\n",
       "      <td>12703.0</td>\n",
       "      <td>https://i.ytimg.com/vi/1ZAPwfrtAFY/default.jpg</td>\n",
       "      <td>False</td>\n",
       "      <td>False</td>\n",
       "      <td>False</td>\n",
       "      <td>One year after the presidential election, John...</td>\n",
       "    </tr>\n",
       "    <tr>\n",
       "      <th>2</th>\n",
       "      <td>5qpjK5DgCt4</td>\n",
       "      <td>17.14.11</td>\n",
       "      <td>Racist Superman | Rudy Mancuso, King Bach &amp; Le...</td>\n",
       "      <td>Rudy Mancuso</td>\n",
       "      <td>23.0</td>\n",
       "      <td>2017-11-12T19:05:24.000Z</td>\n",
       "      <td>racist superman|\"rudy\"|\"mancuso\"|\"king\"|\"bach\"...</td>\n",
       "      <td>3191434.0</td>\n",
       "      <td>146033.0</td>\n",
       "      <td>5339.0</td>\n",
       "      <td>8181.0</td>\n",
       "      <td>https://i.ytimg.com/vi/5qpjK5DgCt4/default.jpg</td>\n",
       "      <td>False</td>\n",
       "      <td>False</td>\n",
       "      <td>False</td>\n",
       "      <td>WATCH MY PREVIOUS VIDEO ▶ \\n\\nSUBSCRIBE ► http...</td>\n",
       "    </tr>\n",
       "    <tr>\n",
       "      <th>3</th>\n",
       "      <td>puqaWrEC7tY</td>\n",
       "      <td>17.14.11</td>\n",
       "      <td>Nickelback Lyrics: Real or Fake?</td>\n",
       "      <td>Good Mythical Morning</td>\n",
       "      <td>24.0</td>\n",
       "      <td>2017-11-13T11:00:04.000Z</td>\n",
       "      <td>rhett and link|\"gmm\"|\"good mythical morning\"|\"...</td>\n",
       "      <td>343168.0</td>\n",
       "      <td>10172.0</td>\n",
       "      <td>666.0</td>\n",
       "      <td>2146.0</td>\n",
       "      <td>https://i.ytimg.com/vi/puqaWrEC7tY/default.jpg</td>\n",
       "      <td>False</td>\n",
       "      <td>False</td>\n",
       "      <td>False</td>\n",
       "      <td>Today we find out if Link is a Nickelback amat...</td>\n",
       "    </tr>\n",
       "    <tr>\n",
       "      <th>4</th>\n",
       "      <td>d380meD0W0M</td>\n",
       "      <td>17.14.11</td>\n",
       "      <td>I Dare You: GOING BALD!?</td>\n",
       "      <td>nigahiga</td>\n",
       "      <td>24.0</td>\n",
       "      <td>2017-11-12T18:01:41.000Z</td>\n",
       "      <td>ryan|\"higa\"|\"higatv\"|\"nigahiga\"|\"i dare you\"|\"...</td>\n",
       "      <td>2095731.0</td>\n",
       "      <td>132235.0</td>\n",
       "      <td>1989.0</td>\n",
       "      <td>17518.0</td>\n",
       "      <td>https://i.ytimg.com/vi/d380meD0W0M/default.jpg</td>\n",
       "      <td>False</td>\n",
       "      <td>False</td>\n",
       "      <td>False</td>\n",
       "      <td>I know it's been a while since we did this sho...</td>\n",
       "    </tr>\n",
       "    <tr>\n",
       "      <th>...</th>\n",
       "      <td>...</td>\n",
       "      <td>...</td>\n",
       "      <td>...</td>\n",
       "      <td>...</td>\n",
       "      <td>...</td>\n",
       "      <td>...</td>\n",
       "      <td>...</td>\n",
       "      <td>...</td>\n",
       "      <td>...</td>\n",
       "      <td>...</td>\n",
       "      <td>...</td>\n",
       "      <td>...</td>\n",
       "      <td>...</td>\n",
       "      <td>...</td>\n",
       "      <td>...</td>\n",
       "      <td>...</td>\n",
       "    </tr>\n",
       "    <tr>\n",
       "      <th>41410</th>\n",
       "      <td>BZt0qjTWNhw</td>\n",
       "      <td>18.14.06</td>\n",
       "      <td>The Cat Who Caught the Laser</td>\n",
       "      <td>AaronsAnimals</td>\n",
       "      <td>15.0</td>\n",
       "      <td>2018-05-18T13:00:04.000Z</td>\n",
       "      <td>aarons animals|\"aarons\"|\"animals\"|\"cat\"|\"cats\"...</td>\n",
       "      <td>1685609.0</td>\n",
       "      <td>38160.0</td>\n",
       "      <td>1385.0</td>\n",
       "      <td>2657.0</td>\n",
       "      <td>https://i.ytimg.com/vi/BZt0qjTWNhw/default.jpg</td>\n",
       "      <td>False</td>\n",
       "      <td>False</td>\n",
       "      <td>False</td>\n",
       "      <td>The Cat Who Caught the Laser - Aaron's Animals</td>\n",
       "    </tr>\n",
       "    <tr>\n",
       "      <th>41411</th>\n",
       "      <td>1h7KV2sjUWY</td>\n",
       "      <td>18.14.06</td>\n",
       "      <td>True Facts : Ant Mutualism</td>\n",
       "      <td>zefrank1</td>\n",
       "      <td>22.0</td>\n",
       "      <td>2018-05-18T01:00:06.000Z</td>\n",
       "      <td>[none]</td>\n",
       "      <td>1064798.0</td>\n",
       "      <td>60008.0</td>\n",
       "      <td>382.0</td>\n",
       "      <td>3936.0</td>\n",
       "      <td>https://i.ytimg.com/vi/1h7KV2sjUWY/default.jpg</td>\n",
       "      <td>False</td>\n",
       "      <td>False</td>\n",
       "      <td>False</td>\n",
       "      <td>NaN</td>\n",
       "    </tr>\n",
       "    <tr>\n",
       "      <th>41412</th>\n",
       "      <td>D6Oy4LfoqsU</td>\n",
       "      <td>18.14.06</td>\n",
       "      <td>I GAVE SAFIYA NYGAARD A PERFECT HAIR MAKEOVER ...</td>\n",
       "      <td>Brad Mondo</td>\n",
       "      <td>24.0</td>\n",
       "      <td>2018-05-18T17:34:22.000Z</td>\n",
       "      <td>I gave safiya nygaard a perfect hair makeover ...</td>\n",
       "      <td>1066451.0</td>\n",
       "      <td>48068.0</td>\n",
       "      <td>1032.0</td>\n",
       "      <td>3992.0</td>\n",
       "      <td>https://i.ytimg.com/vi/D6Oy4LfoqsU/default.jpg</td>\n",
       "      <td>False</td>\n",
       "      <td>False</td>\n",
       "      <td>False</td>\n",
       "      <td>I had so much fun transforming Safiyas hair in...</td>\n",
       "    </tr>\n",
       "    <tr>\n",
       "      <th>41413</th>\n",
       "      <td>oV0zkMe1K8s</td>\n",
       "      <td>18.14.06</td>\n",
       "      <td>How Black Panther Should Have Ended</td>\n",
       "      <td>How It Should Have Ended</td>\n",
       "      <td>1.0</td>\n",
       "      <td>2018-05-17T17:00:04.000Z</td>\n",
       "      <td>Black Panther|\"HISHE\"|\"Marvel\"|\"Infinity War\"|...</td>\n",
       "      <td>5660813.0</td>\n",
       "      <td>192957.0</td>\n",
       "      <td>2846.0</td>\n",
       "      <td>13088.0</td>\n",
       "      <td>https://i.ytimg.com/vi/oV0zkMe1K8s/default.jpg</td>\n",
       "      <td>False</td>\n",
       "      <td>False</td>\n",
       "      <td>False</td>\n",
       "      <td>How Black Panther Should Have EndedWatch More ...</td>\n",
       "    </tr>\n",
       "    <tr>\n",
       "      <th>41414</th>\n",
       "      <td>ooyjaVdt-jA</td>\n",
       "      <td>18.14.06</td>\n",
       "      <td>Official Call of Duty®: Black Ops 4 — Multipla...</td>\n",
       "      <td>Call of Duty</td>\n",
       "      <td>20.0</td>\n",
       "      <td>2018-05-17T17:09:38.000Z</td>\n",
       "      <td>call of duty|\"cod\"|\"activision\"|\"Black Ops 4\"</td>\n",
       "      <td>10306119.0</td>\n",
       "      <td>357079.0</td>\n",
       "      <td>212976.0</td>\n",
       "      <td>144795.0</td>\n",
       "      <td>https://i.ytimg.com/vi/ooyjaVdt-jA/default.jpg</td>\n",
       "      <td>False</td>\n",
       "      <td>False</td>\n",
       "      <td>False</td>\n",
       "      <td>Call of Duty: Black Ops 4 Multiplayer raises t...</td>\n",
       "    </tr>\n",
       "  </tbody>\n",
       "</table>\n",
       "<p>41415 rows × 16 columns</p>\n",
       "</div>"
      ],
      "text/plain": [
       "          video_id trending_date  \\\n",
       "0      2kyS6SvSYSE      17.14.11   \n",
       "1      1ZAPwfrtAFY      17.14.11   \n",
       "2      5qpjK5DgCt4      17.14.11   \n",
       "3      puqaWrEC7tY      17.14.11   \n",
       "4      d380meD0W0M      17.14.11   \n",
       "...            ...           ...   \n",
       "41410  BZt0qjTWNhw      18.14.06   \n",
       "41411  1h7KV2sjUWY      18.14.06   \n",
       "41412  D6Oy4LfoqsU      18.14.06   \n",
       "41413  oV0zkMe1K8s      18.14.06   \n",
       "41414  ooyjaVdt-jA      18.14.06   \n",
       "\n",
       "                                                   title  \\\n",
       "0                     WE WANT TO TALK ABOUT OUR MARRIAGE   \n",
       "1      The Trump Presidency: Last Week Tonight with J...   \n",
       "2      Racist Superman | Rudy Mancuso, King Bach & Le...   \n",
       "3                       Nickelback Lyrics: Real or Fake?   \n",
       "4                               I Dare You: GOING BALD!?   \n",
       "...                                                  ...   \n",
       "41410                       The Cat Who Caught the Laser   \n",
       "41411                         True Facts : Ant Mutualism   \n",
       "41412  I GAVE SAFIYA NYGAARD A PERFECT HAIR MAKEOVER ...   \n",
       "41413                How Black Panther Should Have Ended   \n",
       "41414  Official Call of Duty®: Black Ops 4 — Multipla...   \n",
       "\n",
       "                  channel_title  category_id              publish_time  \\\n",
       "0                  CaseyNeistat         22.0  2017-11-13T17:13:01.000Z   \n",
       "1               LastWeekTonight         24.0  2017-11-13T07:30:00.000Z   \n",
       "2                  Rudy Mancuso         23.0  2017-11-12T19:05:24.000Z   \n",
       "3         Good Mythical Morning         24.0  2017-11-13T11:00:04.000Z   \n",
       "4                      nigahiga         24.0  2017-11-12T18:01:41.000Z   \n",
       "...                         ...          ...                       ...   \n",
       "41410             AaronsAnimals         15.0  2018-05-18T13:00:04.000Z   \n",
       "41411                  zefrank1         22.0  2018-05-18T01:00:06.000Z   \n",
       "41412                Brad Mondo         24.0  2018-05-18T17:34:22.000Z   \n",
       "41413  How It Should Have Ended          1.0  2018-05-17T17:00:04.000Z   \n",
       "41414              Call of Duty         20.0  2018-05-17T17:09:38.000Z   \n",
       "\n",
       "                                                    tags       views  \\\n",
       "0                                        SHANtell martin    748374.0   \n",
       "1      last week tonight trump presidency|\"last week ...   2418783.0   \n",
       "2      racist superman|\"rudy\"|\"mancuso\"|\"king\"|\"bach\"...   3191434.0   \n",
       "3      rhett and link|\"gmm\"|\"good mythical morning\"|\"...    343168.0   \n",
       "4      ryan|\"higa\"|\"higatv\"|\"nigahiga\"|\"i dare you\"|\"...   2095731.0   \n",
       "...                                                  ...         ...   \n",
       "41410  aarons animals|\"aarons\"|\"animals\"|\"cat\"|\"cats\"...   1685609.0   \n",
       "41411                                             [none]   1064798.0   \n",
       "41412  I gave safiya nygaard a perfect hair makeover ...   1066451.0   \n",
       "41413  Black Panther|\"HISHE\"|\"Marvel\"|\"Infinity War\"|...   5660813.0   \n",
       "41414      call of duty|\"cod\"|\"activision\"|\"Black Ops 4\"  10306119.0   \n",
       "\n",
       "          likes  dislikes  comment_count  \\\n",
       "0       57527.0    2966.0        15954.0   \n",
       "1       97185.0    6146.0        12703.0   \n",
       "2      146033.0    5339.0         8181.0   \n",
       "3       10172.0     666.0         2146.0   \n",
       "4      132235.0    1989.0        17518.0   \n",
       "...         ...       ...            ...   \n",
       "41410   38160.0    1385.0         2657.0   \n",
       "41411   60008.0     382.0         3936.0   \n",
       "41412   48068.0    1032.0         3992.0   \n",
       "41413  192957.0    2846.0        13088.0   \n",
       "41414  357079.0  212976.0       144795.0   \n",
       "\n",
       "                                       thumbnail_link comments_disabled  \\\n",
       "0      https://i.ytimg.com/vi/2kyS6SvSYSE/default.jpg             False   \n",
       "1      https://i.ytimg.com/vi/1ZAPwfrtAFY/default.jpg             False   \n",
       "2      https://i.ytimg.com/vi/5qpjK5DgCt4/default.jpg             False   \n",
       "3      https://i.ytimg.com/vi/puqaWrEC7tY/default.jpg             False   \n",
       "4      https://i.ytimg.com/vi/d380meD0W0M/default.jpg             False   \n",
       "...                                               ...               ...   \n",
       "41410  https://i.ytimg.com/vi/BZt0qjTWNhw/default.jpg             False   \n",
       "41411  https://i.ytimg.com/vi/1h7KV2sjUWY/default.jpg             False   \n",
       "41412  https://i.ytimg.com/vi/D6Oy4LfoqsU/default.jpg             False   \n",
       "41413  https://i.ytimg.com/vi/oV0zkMe1K8s/default.jpg             False   \n",
       "41414  https://i.ytimg.com/vi/ooyjaVdt-jA/default.jpg             False   \n",
       "\n",
       "      ratings_disabled video_error_or_removed  \\\n",
       "0                False                  False   \n",
       "1                False                  False   \n",
       "2                False                  False   \n",
       "3                False                  False   \n",
       "4                False                  False   \n",
       "...                ...                    ...   \n",
       "41410            False                  False   \n",
       "41411            False                  False   \n",
       "41412            False                  False   \n",
       "41413            False                  False   \n",
       "41414            False                  False   \n",
       "\n",
       "                                             description  \n",
       "0      SHANTELL'S CHANNEL - https://www.youtube.com/s...  \n",
       "1      One year after the presidential election, John...  \n",
       "2      WATCH MY PREVIOUS VIDEO ▶ \\n\\nSUBSCRIBE ► http...  \n",
       "3      Today we find out if Link is a Nickelback amat...  \n",
       "4      I know it's been a while since we did this sho...  \n",
       "...                                                  ...  \n",
       "41410     The Cat Who Caught the Laser - Aaron's Animals  \n",
       "41411                                                NaN  \n",
       "41412  I had so much fun transforming Safiyas hair in...  \n",
       "41413  How Black Panther Should Have EndedWatch More ...  \n",
       "41414  Call of Duty: Black Ops 4 Multiplayer raises t...  \n",
       "\n",
       "[41415 rows x 16 columns]"
      ]
     },
     "execution_count": 2,
     "metadata": {},
     "output_type": "execute_result"
    }
   ],
   "source": [
    "df"
   ]
  },
  {
   "cell_type": "markdown",
   "id": "ac22819b",
   "metadata": {},
   "source": [
    "# Find out how many missing values you have within your dataset? Which columns ? What assumptions can you make about these missing values ( why do we have them missing ? )"
   ]
  },
  {
   "cell_type": "code",
   "execution_count": 3,
   "id": "1be3ec6a",
   "metadata": {},
   "outputs": [
    {
     "data": {
      "text/plain": [
       "video_id                     0\n",
       "trending_date              466\n",
       "title                      466\n",
       "channel_title              466\n",
       "category_id                466\n",
       "publish_time               466\n",
       "tags                       466\n",
       "views                      466\n",
       "likes                      466\n",
       "dislikes                   466\n",
       "comment_count              466\n",
       "thumbnail_link             466\n",
       "comments_disabled          466\n",
       "ratings_disabled           466\n",
       "video_error_or_removed     466\n",
       "description               1036\n",
       "dtype: int64"
      ]
     },
     "execution_count": 3,
     "metadata": {},
     "output_type": "execute_result"
    }
   ],
   "source": [
    "df.isna().sum()"
   ]
  },
  {
   "cell_type": "markdown",
   "id": "c9f0b195",
   "metadata": {},
   "source": [
    "466  missing data in all columns but id : Missing Completely at Random (MCAR)  maybe  dataset was corrupted in the transfer"
   ]
  },
  {
   "cell_type": "markdown",
   "id": "2edf351a",
   "metadata": {},
   "source": [
    " # the mean"
   ]
  },
  {
   "cell_type": "code",
   "execution_count": 4,
   "id": "b6aae9aa",
   "metadata": {},
   "outputs": [
    {
     "name": "stdout",
     "output_type": "stream",
     "text": [
      " the mean of  category_id is  19.97242911914821\n",
      " the mean of  views is  2360784.6382573447\n",
      " the mean of  likes is  74266.7024347359\n",
      " the mean of  dislikes is  3711.400888910596\n",
      " the mean of  comment_count is  8446.803682629612\n"
     ]
    }
   ],
   "source": [
    "# mean \n",
    "from pandas.api.types import is_numeric_dtype\n",
    "\n",
    "for i in df.columns : \n",
    "   if  is_numeric_dtype(df[i]) :\n",
    "    print(\" the mean of \",i,\"is \",df[i].mean())\n",
    "#df.mean()"
   ]
  },
  {
   "cell_type": "markdown",
   "id": "5dc92208",
   "metadata": {},
   "source": [
    " # the median"
   ]
  },
  {
   "cell_type": "code",
   "execution_count": 5,
   "id": "a6f4bf85",
   "metadata": {},
   "outputs": [
    {
     "name": "stdout",
     "output_type": "stream",
     "text": [
      " the meadian of  category_id is  24.0\n",
      " the meadian of  views is  681861.0\n",
      " the meadian of  likes is  18091.0\n",
      " the meadian of  dislikes is  631.0\n",
      " the meadian of  comment_count is  1856.0\n"
     ]
    }
   ],
   "source": [
    "#median\n",
    "for i in df.columns : \n",
    "   if  is_numeric_dtype(df[i]) :\n",
    "    print(\" the meadian of \",i,\"is \",df[i].median())"
   ]
  },
  {
   "cell_type": "markdown",
   "id": "b83a76a5",
   "metadata": {},
   "source": [
    " # quartiles\n"
   ]
  },
  {
   "cell_type": "code",
   "execution_count": 6,
   "id": "78dd3525",
   "metadata": {},
   "outputs": [
    {
     "data": {
      "text/html": [
       "<div>\n",
       "<style scoped>\n",
       "    .dataframe tbody tr th:only-of-type {\n",
       "        vertical-align: middle;\n",
       "    }\n",
       "\n",
       "    .dataframe tbody tr th {\n",
       "        vertical-align: top;\n",
       "    }\n",
       "\n",
       "    .dataframe thead th {\n",
       "        text-align: right;\n",
       "    }\n",
       "</style>\n",
       "<table border=\"1\" class=\"dataframe\">\n",
       "  <thead>\n",
       "    <tr style=\"text-align: right;\">\n",
       "      <th></th>\n",
       "      <th>category_id</th>\n",
       "      <th>views</th>\n",
       "      <th>likes</th>\n",
       "      <th>dislikes</th>\n",
       "      <th>comment_count</th>\n",
       "    </tr>\n",
       "  </thead>\n",
       "  <tbody>\n",
       "    <tr>\n",
       "      <th>0.25</th>\n",
       "      <td>17.0</td>\n",
       "      <td>242329.0</td>\n",
       "      <td>5424.0</td>\n",
       "      <td>202.0</td>\n",
       "      <td>614.0</td>\n",
       "    </tr>\n",
       "    <tr>\n",
       "      <th>0.50</th>\n",
       "      <td>24.0</td>\n",
       "      <td>681861.0</td>\n",
       "      <td>18091.0</td>\n",
       "      <td>631.0</td>\n",
       "      <td>1856.0</td>\n",
       "    </tr>\n",
       "    <tr>\n",
       "      <th>0.75</th>\n",
       "      <td>25.0</td>\n",
       "      <td>1823157.0</td>\n",
       "      <td>55417.0</td>\n",
       "      <td>1938.0</td>\n",
       "      <td>5755.0</td>\n",
       "    </tr>\n",
       "  </tbody>\n",
       "</table>\n",
       "</div>"
      ],
      "text/plain": [
       "      category_id      views    likes  dislikes  comment_count\n",
       "0.25         17.0   242329.0   5424.0     202.0          614.0\n",
       "0.50         24.0   681861.0  18091.0     631.0         1856.0\n",
       "0.75         25.0  1823157.0  55417.0    1938.0         5755.0"
      ]
     },
     "execution_count": 6,
     "metadata": {},
     "output_type": "execute_result"
    }
   ],
   "source": [
    "#quartile\n",
    "df.quantile([0.25,0.5,0.75])"
   ]
  },
  {
   "cell_type": "markdown",
   "id": "338e26aa",
   "metadata": {},
   "source": [
    "# outliers"
   ]
  },
  {
   "cell_type": "code",
   "execution_count": 7,
   "id": "7c6fbb5b",
   "metadata": {
    "scrolled": true
   },
   "outputs": [
    {
     "data": {
      "text/html": [
       "<div>\n",
       "<style scoped>\n",
       "    .dataframe tbody tr th:only-of-type {\n",
       "        vertical-align: middle;\n",
       "    }\n",
       "\n",
       "    .dataframe tbody tr th {\n",
       "        vertical-align: top;\n",
       "    }\n",
       "\n",
       "    .dataframe thead th {\n",
       "        text-align: right;\n",
       "    }\n",
       "</style>\n",
       "<table border=\"1\" class=\"dataframe\">\n",
       "  <thead>\n",
       "    <tr style=\"text-align: right;\">\n",
       "      <th></th>\n",
       "      <th>category_id</th>\n",
       "      <th>views</th>\n",
       "      <th>likes</th>\n",
       "      <th>dislikes</th>\n",
       "      <th>comment_count</th>\n",
       "    </tr>\n",
       "  </thead>\n",
       "  <tbody>\n",
       "    <tr>\n",
       "      <th>count</th>\n",
       "      <td>40949.000000</td>\n",
       "      <td>4.094900e+04</td>\n",
       "      <td>4.094900e+04</td>\n",
       "      <td>4.094900e+04</td>\n",
       "      <td>4.094900e+04</td>\n",
       "    </tr>\n",
       "    <tr>\n",
       "      <th>mean</th>\n",
       "      <td>19.972429</td>\n",
       "      <td>2.360785e+06</td>\n",
       "      <td>7.426670e+04</td>\n",
       "      <td>3.711401e+03</td>\n",
       "      <td>8.446804e+03</td>\n",
       "    </tr>\n",
       "    <tr>\n",
       "      <th>std</th>\n",
       "      <td>7.568327</td>\n",
       "      <td>7.394114e+06</td>\n",
       "      <td>2.288853e+05</td>\n",
       "      <td>2.902971e+04</td>\n",
       "      <td>3.743049e+04</td>\n",
       "    </tr>\n",
       "    <tr>\n",
       "      <th>min</th>\n",
       "      <td>1.000000</td>\n",
       "      <td>5.490000e+02</td>\n",
       "      <td>0.000000e+00</td>\n",
       "      <td>0.000000e+00</td>\n",
       "      <td>0.000000e+00</td>\n",
       "    </tr>\n",
       "    <tr>\n",
       "      <th>25%</th>\n",
       "      <td>17.000000</td>\n",
       "      <td>2.423290e+05</td>\n",
       "      <td>5.424000e+03</td>\n",
       "      <td>2.020000e+02</td>\n",
       "      <td>6.140000e+02</td>\n",
       "    </tr>\n",
       "    <tr>\n",
       "      <th>50%</th>\n",
       "      <td>24.000000</td>\n",
       "      <td>6.818610e+05</td>\n",
       "      <td>1.809100e+04</td>\n",
       "      <td>6.310000e+02</td>\n",
       "      <td>1.856000e+03</td>\n",
       "    </tr>\n",
       "    <tr>\n",
       "      <th>75%</th>\n",
       "      <td>25.000000</td>\n",
       "      <td>1.823157e+06</td>\n",
       "      <td>5.541700e+04</td>\n",
       "      <td>1.938000e+03</td>\n",
       "      <td>5.755000e+03</td>\n",
       "    </tr>\n",
       "    <tr>\n",
       "      <th>max</th>\n",
       "      <td>43.000000</td>\n",
       "      <td>2.252119e+08</td>\n",
       "      <td>5.613827e+06</td>\n",
       "      <td>1.674420e+06</td>\n",
       "      <td>1.361580e+06</td>\n",
       "    </tr>\n",
       "  </tbody>\n",
       "</table>\n",
       "</div>"
      ],
      "text/plain": [
       "        category_id         views         likes      dislikes  comment_count\n",
       "count  40949.000000  4.094900e+04  4.094900e+04  4.094900e+04   4.094900e+04\n",
       "mean      19.972429  2.360785e+06  7.426670e+04  3.711401e+03   8.446804e+03\n",
       "std        7.568327  7.394114e+06  2.288853e+05  2.902971e+04   3.743049e+04\n",
       "min        1.000000  5.490000e+02  0.000000e+00  0.000000e+00   0.000000e+00\n",
       "25%       17.000000  2.423290e+05  5.424000e+03  2.020000e+02   6.140000e+02\n",
       "50%       24.000000  6.818610e+05  1.809100e+04  6.310000e+02   1.856000e+03\n",
       "75%       25.000000  1.823157e+06  5.541700e+04  1.938000e+03   5.755000e+03\n",
       "max       43.000000  2.252119e+08  5.613827e+06  1.674420e+06   1.361580e+06"
      ]
     },
     "execution_count": 7,
     "metadata": {},
     "output_type": "execute_result"
    }
   ],
   "source": [
    "df.describe()"
   ]
  },
  {
   "cell_type": "code",
   "execution_count": 8,
   "id": "b8f3b92f",
   "metadata": {},
   "outputs": [
    {
     "data": {
      "text/plain": [
       "<AxesSubplot:xlabel='views'>"
      ]
     },
     "execution_count": 8,
     "metadata": {},
     "output_type": "execute_result"
    },
    {
     "data": {
      "image/png": "[encoded data removed]",
      "text/plain": [
       "<Figure size 432x288 with 1 Axes>"
      ]
     },
     "metadata": {
      "needs_background": "light"
     },
     "output_type": "display_data"
    }
   ],
   "source": [
    "import seaborn as sns\n",
    "sns.boxplot(x=df['views'])"
   ]
  },
  {
   "cell_type": "markdown",
   "id": "9655df0d",
   "metadata": {},
   "source": [
    "#  most of the view are in [0,10^8]"
   ]
  },
  {
   "cell_type": "code",
   "execution_count": 35,
   "id": "fde29166",
   "metadata": {},
   "outputs": [
    {
     "data": {
      "text/plain": [
       "<AxesSubplot:xlabel='dislikes'>"
      ]
     },
     "execution_count": 35,
     "metadata": {},
     "output_type": "execute_result"
    },
    {
     "data": {
      "image/png": "[encoded data removed]",
      "text/plain": [
       "<Figure size 432x288 with 1 Axes>"
      ]
     },
     "metadata": {
      "needs_background": "light"
     },
     "output_type": "display_data"
    }
   ],
   "source": [
    "sns.boxplot(x=df['dislikes'])\n"
   ]
  },
  {
   "cell_type": "markdown",
   "id": "31079446",
   "metadata": {},
   "source": [
    "#  the dislikes are generally l[0,10^8]"
   ]
  },
  {
   "cell_type": "code",
   "execution_count": 36,
   "id": "34c6f331",
   "metadata": {},
   "outputs": [
    {
     "data": {
      "text/plain": [
       "<AxesSubplot:xlabel='likes'>"
      ]
     },
     "execution_count": 36,
     "metadata": {},
     "output_type": "execute_result"
    },
    {
     "data": {
      "image/png": "[encoded data removed]",
      "text/plain": [
       "<Figure size 432x288 with 1 Axes>"
      ]
     },
     "metadata": {
      "needs_background": "light"
     },
     "output_type": "display_data"
    }
   ],
   "source": [
    "sns.boxplot(x=df['likes'])"
   ]
  },
  {
   "cell_type": "code",
   "execution_count": 42,
   "id": "046a647c",
   "metadata": {},
   "outputs": [
    {
     "data": {
      "text/html": [
       "<div>\n",
       "<style scoped>\n",
       "    .dataframe tbody tr th:only-of-type {\n",
       "        vertical-align: middle;\n",
       "    }\n",
       "\n",
       "    .dataframe tbody tr th {\n",
       "        vertical-align: top;\n",
       "    }\n",
       "\n",
       "    .dataframe thead th {\n",
       "        text-align: right;\n",
       "    }\n",
       "</style>\n",
       "<table border=\"1\" class=\"dataframe\">\n",
       "  <thead>\n",
       "    <tr style=\"text-align: right;\">\n",
       "      <th></th>\n",
       "      <th>video_id</th>\n",
       "      <th>trending_date</th>\n",
       "      <th>title</th>\n",
       "      <th>channel_title</th>\n",
       "      <th>category_id</th>\n",
       "      <th>publish_time</th>\n",
       "      <th>tags</th>\n",
       "      <th>views</th>\n",
       "      <th>likes</th>\n",
       "      <th>dislikes</th>\n",
       "      <th>comment_count</th>\n",
       "      <th>thumbnail_link</th>\n",
       "      <th>comments_disabled</th>\n",
       "      <th>ratings_disabled</th>\n",
       "      <th>video_error_or_removed</th>\n",
       "      <th>description</th>\n",
       "    </tr>\n",
       "  </thead>\n",
       "  <tbody>\n",
       "    <tr>\n",
       "      <th>0</th>\n",
       "      <td>2kyS6SvSYSE</td>\n",
       "      <td>17.14.11</td>\n",
       "      <td>WE WANT TO TALK ABOUT OUR MARRIAGE</td>\n",
       "      <td>CaseyNeistat</td>\n",
       "      <td>22.0</td>\n",
       "      <td>2017-11-13T17:13:01.000Z</td>\n",
       "      <td>SHANtell martin</td>\n",
       "      <td>748374.0</td>\n",
       "      <td>57527.0</td>\n",
       "      <td>2966.0</td>\n",
       "      <td>15954.0</td>\n",
       "      <td>https://i.ytimg.com/vi/2kyS6SvSYSE/default.jpg</td>\n",
       "      <td>False</td>\n",
       "      <td>False</td>\n",
       "      <td>False</td>\n",
       "      <td>SHANTELL'S CHANNEL - https://www.youtube.com/s...</td>\n",
       "    </tr>\n",
       "    <tr>\n",
       "      <th>1</th>\n",
       "      <td>1ZAPwfrtAFY</td>\n",
       "      <td>17.14.11</td>\n",
       "      <td>The Trump Presidency: Last Week Tonight with J...</td>\n",
       "      <td>LastWeekTonight</td>\n",
       "      <td>24.0</td>\n",
       "      <td>2017-11-13T07:30:00.000Z</td>\n",
       "      <td>last week tonight trump presidency|\"last week ...</td>\n",
       "      <td>2418783.0</td>\n",
       "      <td>97185.0</td>\n",
       "      <td>6146.0</td>\n",
       "      <td>12703.0</td>\n",
       "      <td>https://i.ytimg.com/vi/1ZAPwfrtAFY/default.jpg</td>\n",
       "      <td>False</td>\n",
       "      <td>False</td>\n",
       "      <td>False</td>\n",
       "      <td>One year after the presidential election, John...</td>\n",
       "    </tr>\n",
       "    <tr>\n",
       "      <th>2</th>\n",
       "      <td>5qpjK5DgCt4</td>\n",
       "      <td>17.14.11</td>\n",
       "      <td>Racist Superman | Rudy Mancuso, King Bach &amp; Le...</td>\n",
       "      <td>Rudy Mancuso</td>\n",
       "      <td>23.0</td>\n",
       "      <td>2017-11-12T19:05:24.000Z</td>\n",
       "      <td>racist superman|\"rudy\"|\"mancuso\"|\"king\"|\"bach\"...</td>\n",
       "      <td>3191434.0</td>\n",
       "      <td>146033.0</td>\n",
       "      <td>5339.0</td>\n",
       "      <td>8181.0</td>\n",
       "      <td>https://i.ytimg.com/vi/5qpjK5DgCt4/default.jpg</td>\n",
       "      <td>False</td>\n",
       "      <td>False</td>\n",
       "      <td>False</td>\n",
       "      <td>WATCH MY PREVIOUS VIDEO ▶ \\n\\nSUBSCRIBE ► http...</td>\n",
       "    </tr>\n",
       "    <tr>\n",
       "      <th>3</th>\n",
       "      <td>puqaWrEC7tY</td>\n",
       "      <td>17.14.11</td>\n",
       "      <td>Nickelback Lyrics: Real or Fake?</td>\n",
       "      <td>Good Mythical Morning</td>\n",
       "      <td>24.0</td>\n",
       "      <td>2017-11-13T11:00:04.000Z</td>\n",
       "      <td>rhett and link|\"gmm\"|\"good mythical morning\"|\"...</td>\n",
       "      <td>343168.0</td>\n",
       "      <td>10172.0</td>\n",
       "      <td>666.0</td>\n",
       "      <td>2146.0</td>\n",
       "      <td>https://i.ytimg.com/vi/puqaWrEC7tY/default.jpg</td>\n",
       "      <td>False</td>\n",
       "      <td>False</td>\n",
       "      <td>False</td>\n",
       "      <td>Today we find out if Link is a Nickelback amat...</td>\n",
       "    </tr>\n",
       "    <tr>\n",
       "      <th>4</th>\n",
       "      <td>d380meD0W0M</td>\n",
       "      <td>17.14.11</td>\n",
       "      <td>I Dare You: GOING BALD!?</td>\n",
       "      <td>nigahiga</td>\n",
       "      <td>24.0</td>\n",
       "      <td>2017-11-12T18:01:41.000Z</td>\n",
       "      <td>ryan|\"higa\"|\"higatv\"|\"nigahiga\"|\"i dare you\"|\"...</td>\n",
       "      <td>2095731.0</td>\n",
       "      <td>132235.0</td>\n",
       "      <td>1989.0</td>\n",
       "      <td>17518.0</td>\n",
       "      <td>https://i.ytimg.com/vi/d380meD0W0M/default.jpg</td>\n",
       "      <td>False</td>\n",
       "      <td>False</td>\n",
       "      <td>False</td>\n",
       "      <td>I know it's been a while since we did this sho...</td>\n",
       "    </tr>\n",
       "    <tr>\n",
       "      <th>...</th>\n",
       "      <td>...</td>\n",
       "      <td>...</td>\n",
       "      <td>...</td>\n",
       "      <td>...</td>\n",
       "      <td>...</td>\n",
       "      <td>...</td>\n",
       "      <td>...</td>\n",
       "      <td>...</td>\n",
       "      <td>...</td>\n",
       "      <td>...</td>\n",
       "      <td>...</td>\n",
       "      <td>...</td>\n",
       "      <td>...</td>\n",
       "      <td>...</td>\n",
       "      <td>...</td>\n",
       "      <td>...</td>\n",
       "    </tr>\n",
       "    <tr>\n",
       "      <th>41410</th>\n",
       "      <td>BZt0qjTWNhw</td>\n",
       "      <td>18.14.06</td>\n",
       "      <td>The Cat Who Caught the Laser</td>\n",
       "      <td>AaronsAnimals</td>\n",
       "      <td>15.0</td>\n",
       "      <td>2018-05-18T13:00:04.000Z</td>\n",
       "      <td>aarons animals|\"aarons\"|\"animals\"|\"cat\"|\"cats\"...</td>\n",
       "      <td>1685609.0</td>\n",
       "      <td>38160.0</td>\n",
       "      <td>1385.0</td>\n",
       "      <td>2657.0</td>\n",
       "      <td>https://i.ytimg.com/vi/BZt0qjTWNhw/default.jpg</td>\n",
       "      <td>False</td>\n",
       "      <td>False</td>\n",
       "      <td>False</td>\n",
       "      <td>The Cat Who Caught the Laser - Aaron's Animals</td>\n",
       "    </tr>\n",
       "    <tr>\n",
       "      <th>41411</th>\n",
       "      <td>1h7KV2sjUWY</td>\n",
       "      <td>18.14.06</td>\n",
       "      <td>True Facts : Ant Mutualism</td>\n",
       "      <td>zefrank1</td>\n",
       "      <td>22.0</td>\n",
       "      <td>2018-05-18T01:00:06.000Z</td>\n",
       "      <td>[none]</td>\n",
       "      <td>1064798.0</td>\n",
       "      <td>60008.0</td>\n",
       "      <td>382.0</td>\n",
       "      <td>3936.0</td>\n",
       "      <td>https://i.ytimg.com/vi/1h7KV2sjUWY/default.jpg</td>\n",
       "      <td>False</td>\n",
       "      <td>False</td>\n",
       "      <td>False</td>\n",
       "      <td>NaN</td>\n",
       "    </tr>\n",
       "    <tr>\n",
       "      <th>41412</th>\n",
       "      <td>D6Oy4LfoqsU</td>\n",
       "      <td>18.14.06</td>\n",
       "      <td>I GAVE SAFIYA NYGAARD A PERFECT HAIR MAKEOVER ...</td>\n",
       "      <td>Brad Mondo</td>\n",
       "      <td>24.0</td>\n",
       "      <td>2018-05-18T17:34:22.000Z</td>\n",
       "      <td>I gave safiya nygaard a perfect hair makeover ...</td>\n",
       "      <td>1066451.0</td>\n",
       "      <td>48068.0</td>\n",
       "      <td>1032.0</td>\n",
       "      <td>3992.0</td>\n",
       "      <td>https://i.ytimg.com/vi/D6Oy4LfoqsU/default.jpg</td>\n",
       "      <td>False</td>\n",
       "      <td>False</td>\n",
       "      <td>False</td>\n",
       "      <td>I had so much fun transforming Safiyas hair in...</td>\n",
       "    </tr>\n",
       "    <tr>\n",
       "      <th>41413</th>\n",
       "      <td>oV0zkMe1K8s</td>\n",
       "      <td>18.14.06</td>\n",
       "      <td>How Black Panther Should Have Ended</td>\n",
       "      <td>How It Should Have Ended</td>\n",
       "      <td>1.0</td>\n",
       "      <td>2018-05-17T17:00:04.000Z</td>\n",
       "      <td>Black Panther|\"HISHE\"|\"Marvel\"|\"Infinity War\"|...</td>\n",
       "      <td>5660813.0</td>\n",
       "      <td>192957.0</td>\n",
       "      <td>2846.0</td>\n",
       "      <td>13088.0</td>\n",
       "      <td>https://i.ytimg.com/vi/oV0zkMe1K8s/default.jpg</td>\n",
       "      <td>False</td>\n",
       "      <td>False</td>\n",
       "      <td>False</td>\n",
       "      <td>How Black Panther Should Have EndedWatch More ...</td>\n",
       "    </tr>\n",
       "    <tr>\n",
       "      <th>41414</th>\n",
       "      <td>ooyjaVdt-jA</td>\n",
       "      <td>18.14.06</td>\n",
       "      <td>Official Call of Duty®: Black Ops 4 — Multipla...</td>\n",
       "      <td>Call of Duty</td>\n",
       "      <td>20.0</td>\n",
       "      <td>2018-05-17T17:09:38.000Z</td>\n",
       "      <td>call of duty|\"cod\"|\"activision\"|\"Black Ops 4\"</td>\n",
       "      <td>10306119.0</td>\n",
       "      <td>357079.0</td>\n",
       "      <td>212976.0</td>\n",
       "      <td>144795.0</td>\n",
       "      <td>https://i.ytimg.com/vi/ooyjaVdt-jA/default.jpg</td>\n",
       "      <td>False</td>\n",
       "      <td>False</td>\n",
       "      <td>False</td>\n",
       "      <td>Call of Duty: Black Ops 4 Multiplayer raises t...</td>\n",
       "    </tr>\n",
       "  </tbody>\n",
       "</table>\n",
       "<p>41415 rows × 16 columns</p>\n",
       "</div>"
      ],
      "text/plain": [
       "          video_id trending_date  \\\n",
       "0      2kyS6SvSYSE      17.14.11   \n",
       "1      1ZAPwfrtAFY      17.14.11   \n",
       "2      5qpjK5DgCt4      17.14.11   \n",
       "3      puqaWrEC7tY      17.14.11   \n",
       "4      d380meD0W0M      17.14.11   \n",
       "...            ...           ...   \n",
       "41410  BZt0qjTWNhw      18.14.06   \n",
       "41411  1h7KV2sjUWY      18.14.06   \n",
       "41412  D6Oy4LfoqsU      18.14.06   \n",
       "41413  oV0zkMe1K8s      18.14.06   \n",
       "41414  ooyjaVdt-jA      18.14.06   \n",
       "\n",
       "                                                   title  \\\n",
       "0                     WE WANT TO TALK ABOUT OUR MARRIAGE   \n",
       "1      The Trump Presidency: Last Week Tonight with J...   \n",
       "2      Racist Superman | Rudy Mancuso, King Bach & Le...   \n",
       "3                       Nickelback Lyrics: Real or Fake?   \n",
       "4                               I Dare You: GOING BALD!?   \n",
       "...                                                  ...   \n",
       "41410                       The Cat Who Caught the Laser   \n",
       "41411                         True Facts : Ant Mutualism   \n",
       "41412  I GAVE SAFIYA NYGAARD A PERFECT HAIR MAKEOVER ...   \n",
       "41413                How Black Panther Should Have Ended   \n",
       "41414  Official Call of Duty®: Black Ops 4 — Multipla...   \n",
       "\n",
       "                  channel_title  category_id              publish_time  \\\n",
       "0                  CaseyNeistat         22.0  2017-11-13T17:13:01.000Z   \n",
       "1               LastWeekTonight         24.0  2017-11-13T07:30:00.000Z   \n",
       "2                  Rudy Mancuso         23.0  2017-11-12T19:05:24.000Z   \n",
       "3         Good Mythical Morning         24.0  2017-11-13T11:00:04.000Z   \n",
       "4                      nigahiga         24.0  2017-11-12T18:01:41.000Z   \n",
       "...                         ...          ...                       ...   \n",
       "41410             AaronsAnimals         15.0  2018-05-18T13:00:04.000Z   \n",
       "41411                  zefrank1         22.0  2018-05-18T01:00:06.000Z   \n",
       "41412                Brad Mondo         24.0  2018-05-18T17:34:22.000Z   \n",
       "41413  How It Should Have Ended          1.0  2018-05-17T17:00:04.000Z   \n",
       "41414              Call of Duty         20.0  2018-05-17T17:09:38.000Z   \n",
       "\n",
       "                                                    tags       views  \\\n",
       "0                                        SHANtell martin    748374.0   \n",
       "1      last week tonight trump presidency|\"last week ...   2418783.0   \n",
       "2      racist superman|\"rudy\"|\"mancuso\"|\"king\"|\"bach\"...   3191434.0   \n",
       "3      rhett and link|\"gmm\"|\"good mythical morning\"|\"...    343168.0   \n",
       "4      ryan|\"higa\"|\"higatv\"|\"nigahiga\"|\"i dare you\"|\"...   2095731.0   \n",
       "...                                                  ...         ...   \n",
       "41410  aarons animals|\"aarons\"|\"animals\"|\"cat\"|\"cats\"...   1685609.0   \n",
       "41411                                             [none]   1064798.0   \n",
       "41412  I gave safiya nygaard a perfect hair makeover ...   1066451.0   \n",
       "41413  Black Panther|\"HISHE\"|\"Marvel\"|\"Infinity War\"|...   5660813.0   \n",
       "41414      call of duty|\"cod\"|\"activision\"|\"Black Ops 4\"  10306119.0   \n",
       "\n",
       "          likes  dislikes  comment_count  \\\n",
       "0       57527.0    2966.0        15954.0   \n",
       "1       97185.0    6146.0        12703.0   \n",
       "2      146033.0    5339.0         8181.0   \n",
       "3       10172.0     666.0         2146.0   \n",
       "4      132235.0    1989.0        17518.0   \n",
       "...         ...       ...            ...   \n",
       "41410   38160.0    1385.0         2657.0   \n",
       "41411   60008.0     382.0         3936.0   \n",
       "41412   48068.0    1032.0         3992.0   \n",
       "41413  192957.0    2846.0        13088.0   \n",
       "41414  357079.0  212976.0       144795.0   \n",
       "\n",
       "                                       thumbnail_link comments_disabled  \\\n",
       "0      https://i.ytimg.com/vi/2kyS6SvSYSE/default.jpg             False   \n",
       "1      https://i.ytimg.com/vi/1ZAPwfrtAFY/default.jpg             False   \n",
       "2      https://i.ytimg.com/vi/5qpjK5DgCt4/default.jpg             False   \n",
       "3      https://i.ytimg.com/vi/puqaWrEC7tY/default.jpg             False   \n",
       "4      https://i.ytimg.com/vi/d380meD0W0M/default.jpg             False   \n",
       "...                                               ...               ...   \n",
       "41410  https://i.ytimg.com/vi/BZt0qjTWNhw/default.jpg             False   \n",
       "41411  https://i.ytimg.com/vi/1h7KV2sjUWY/default.jpg             False   \n",
       "41412  https://i.ytimg.com/vi/D6Oy4LfoqsU/default.jpg             False   \n",
       "41413  https://i.ytimg.com/vi/oV0zkMe1K8s/default.jpg             False   \n",
       "41414  https://i.ytimg.com/vi/ooyjaVdt-jA/default.jpg             False   \n",
       "\n",
       "      ratings_disabled video_error_or_removed  \\\n",
       "0                False                  False   \n",
       "1                False                  False   \n",
       "2                False                  False   \n",
       "3                False                  False   \n",
       "4                False                  False   \n",
       "...                ...                    ...   \n",
       "41410            False                  False   \n",
       "41411            False                  False   \n",
       "41412            False                  False   \n",
       "41413            False                  False   \n",
       "41414            False                  False   \n",
       "\n",
       "                                             description  \n",
       "0      SHANTELL'S CHANNEL - https://www.youtube.com/s...  \n",
       "1      One year after the presidential election, John...  \n",
       "2      WATCH MY PREVIOUS VIDEO ▶ \\n\\nSUBSCRIBE ► http...  \n",
       "3      Today we find out if Link is a Nickelback amat...  \n",
       "4      I know it's been a while since we did this sho...  \n",
       "...                                                  ...  \n",
       "41410     The Cat Who Caught the Laser - Aaron's Animals  \n",
       "41411                                                NaN  \n",
       "41412  I had so much fun transforming Safiyas hair in...  \n",
       "41413  How Black Panther Should Have EndedWatch More ...  \n",
       "41414  Call of Duty: Black Ops 4 Multiplayer raises t...  \n",
       "\n",
       "[41415 rows x 16 columns]"
      ]
     },
     "execution_count": 42,
     "metadata": {},
     "output_type": "execute_result"
    }
   ],
   "source": [
    "df"
   ]
  },
  {
   "cell_type": "code",
   "execution_count": 47,
   "id": "ac563c52",
   "metadata": {},
   "outputs": [],
   "source": [
    "numerics = ['int16', 'int32', 'int64', 'float16', 'float32', 'float64']\n",
    "\n",
    "newdf = df.select_dtypes(include=numerics)"
   ]
  },
  {
   "cell_type": "code",
   "execution_count": 48,
   "id": "2a5dc8ae",
   "metadata": {},
   "outputs": [
    {
     "data": {
      "text/html": [
       "<div>\n",
       "<style scoped>\n",
       "    .dataframe tbody tr th:only-of-type {\n",
       "        vertical-align: middle;\n",
       "    }\n",
       "\n",
       "    .dataframe tbody tr th {\n",
       "        vertical-align: top;\n",
       "    }\n",
       "\n",
       "    .dataframe thead th {\n",
       "        text-align: right;\n",
       "    }\n",
       "</style>\n",
       "<table border=\"1\" class=\"dataframe\">\n",
       "  <thead>\n",
       "    <tr style=\"text-align: right;\">\n",
       "      <th></th>\n",
       "      <th>category_id</th>\n",
       "      <th>views</th>\n",
       "      <th>likes</th>\n",
       "      <th>dislikes</th>\n",
       "      <th>comment_count</th>\n",
       "    </tr>\n",
       "  </thead>\n",
       "  <tbody>\n",
       "    <tr>\n",
       "      <th>0</th>\n",
       "      <td>22.0</td>\n",
       "      <td>748374.0</td>\n",
       "      <td>57527.0</td>\n",
       "      <td>2966.0</td>\n",
       "      <td>15954.0</td>\n",
       "    </tr>\n",
       "    <tr>\n",
       "      <th>1</th>\n",
       "      <td>24.0</td>\n",
       "      <td>2418783.0</td>\n",
       "      <td>97185.0</td>\n",
       "      <td>6146.0</td>\n",
       "      <td>12703.0</td>\n",
       "    </tr>\n",
       "    <tr>\n",
       "      <th>2</th>\n",
       "      <td>23.0</td>\n",
       "      <td>3191434.0</td>\n",
       "      <td>146033.0</td>\n",
       "      <td>5339.0</td>\n",
       "      <td>8181.0</td>\n",
       "    </tr>\n",
       "    <tr>\n",
       "      <th>3</th>\n",
       "      <td>24.0</td>\n",
       "      <td>343168.0</td>\n",
       "      <td>10172.0</td>\n",
       "      <td>666.0</td>\n",
       "      <td>2146.0</td>\n",
       "    </tr>\n",
       "    <tr>\n",
       "      <th>4</th>\n",
       "      <td>24.0</td>\n",
       "      <td>2095731.0</td>\n",
       "      <td>132235.0</td>\n",
       "      <td>1989.0</td>\n",
       "      <td>17518.0</td>\n",
       "    </tr>\n",
       "    <tr>\n",
       "      <th>...</th>\n",
       "      <td>...</td>\n",
       "      <td>...</td>\n",
       "      <td>...</td>\n",
       "      <td>...</td>\n",
       "      <td>...</td>\n",
       "    </tr>\n",
       "    <tr>\n",
       "      <th>41410</th>\n",
       "      <td>15.0</td>\n",
       "      <td>1685609.0</td>\n",
       "      <td>38160.0</td>\n",
       "      <td>1385.0</td>\n",
       "      <td>2657.0</td>\n",
       "    </tr>\n",
       "    <tr>\n",
       "      <th>41411</th>\n",
       "      <td>22.0</td>\n",
       "      <td>1064798.0</td>\n",
       "      <td>60008.0</td>\n",
       "      <td>382.0</td>\n",
       "      <td>3936.0</td>\n",
       "    </tr>\n",
       "    <tr>\n",
       "      <th>41412</th>\n",
       "      <td>24.0</td>\n",
       "      <td>1066451.0</td>\n",
       "      <td>48068.0</td>\n",
       "      <td>1032.0</td>\n",
       "      <td>3992.0</td>\n",
       "    </tr>\n",
       "    <tr>\n",
       "      <th>41413</th>\n",
       "      <td>1.0</td>\n",
       "      <td>5660813.0</td>\n",
       "      <td>192957.0</td>\n",
       "      <td>2846.0</td>\n",
       "      <td>13088.0</td>\n",
       "    </tr>\n",
       "    <tr>\n",
       "      <th>41414</th>\n",
       "      <td>20.0</td>\n",
       "      <td>10306119.0</td>\n",
       "      <td>357079.0</td>\n",
       "      <td>212976.0</td>\n",
       "      <td>144795.0</td>\n",
       "    </tr>\n",
       "  </tbody>\n",
       "</table>\n",
       "<p>41415 rows × 5 columns</p>\n",
       "</div>"
      ],
      "text/plain": [
       "       category_id       views     likes  dislikes  comment_count\n",
       "0             22.0    748374.0   57527.0    2966.0        15954.0\n",
       "1             24.0   2418783.0   97185.0    6146.0        12703.0\n",
       "2             23.0   3191434.0  146033.0    5339.0         8181.0\n",
       "3             24.0    343168.0   10172.0     666.0         2146.0\n",
       "4             24.0   2095731.0  132235.0    1989.0        17518.0\n",
       "...            ...         ...       ...       ...            ...\n",
       "41410         15.0   1685609.0   38160.0    1385.0         2657.0\n",
       "41411         22.0   1064798.0   60008.0     382.0         3936.0\n",
       "41412         24.0   1066451.0   48068.0    1032.0         3992.0\n",
       "41413          1.0   5660813.0  192957.0    2846.0        13088.0\n",
       "41414         20.0  10306119.0  357079.0  212976.0       144795.0\n",
       "\n",
       "[41415 rows x 5 columns]"
      ]
     },
     "execution_count": 48,
     "metadata": {},
     "output_type": "execute_result"
    }
   ],
   "source": [
    "newdf"
   ]
  },
  {
   "cell_type": "code",
   "execution_count": 56,
   "id": "11f18a08",
   "metadata": {},
   "outputs": [
    {
     "name": "stdout",
     "output_type": "stream",
     "text": [
      "[[ 2.67905402e-01 -2.18069451e-01 -7.31366498e-02 -2.56774902e-02\n",
      "   2.00566132e-01]\n",
      " [ 5.32167829e-01  7.84395153e-03  1.00131260e-01  8.38668102e-02\n",
      "   1.13710738e-01]\n",
      " [ 4.00036615e-01  1.12340644e-01  3.13550769e-01  5.60673604e-02\n",
      "  -7.10134838e-03]\n",
      " ...\n",
      " [ 5.32167829e-01 -1.75051329e-01 -1.14463524e-01 -9.22997157e-02\n",
      "  -1.19016835e-01]\n",
      " [-2.50685009e+00  4.46310236e-01  5.18564220e-01 -2.98112374e-02\n",
      "   1.23996596e-01]\n",
      " [ 3.64297395e-03  1.07456169e+00  1.23562196e+00  7.20872456e+00\n",
      "   3.64274879e+00]]\n"
     ]
    }
   ],
   "source": [
    "from scipy import stats\n",
    "import numpy as np\n",
    "z = stats.zscore(newdf, nan_policy='omit')\n",
    "print(z)"
   ]
  },
  {
   "cell_type": "code",
   "execution_count": 58,
   "id": "0cc69033",
   "metadata": {},
   "outputs": [],
   "source": [
    "abs_z_scores = np.abs(z)\n",
    "filtered_entries = (abs_z_scores < 3).all(axis=1)\n",
    "newdf = newdf[filtered_entries]"
   ]
  },
  {
   "cell_type": "code",
   "execution_count": 59,
   "id": "9d404dce",
   "metadata": {},
   "outputs": [
    {
     "data": {
      "text/html": [
       "<div>\n",
       "<style scoped>\n",
       "    .dataframe tbody tr th:only-of-type {\n",
       "        vertical-align: middle;\n",
       "    }\n",
       "\n",
       "    .dataframe tbody tr th {\n",
       "        vertical-align: top;\n",
       "    }\n",
       "\n",
       "    .dataframe thead th {\n",
       "        text-align: right;\n",
       "    }\n",
       "</style>\n",
       "<table border=\"1\" class=\"dataframe\">\n",
       "  <thead>\n",
       "    <tr style=\"text-align: right;\">\n",
       "      <th></th>\n",
       "      <th>category_id</th>\n",
       "      <th>views</th>\n",
       "      <th>likes</th>\n",
       "      <th>dislikes</th>\n",
       "      <th>comment_count</th>\n",
       "    </tr>\n",
       "  </thead>\n",
       "  <tbody>\n",
       "    <tr>\n",
       "      <th>0</th>\n",
       "      <td>22.0</td>\n",
       "      <td>748374.0</td>\n",
       "      <td>57527.0</td>\n",
       "      <td>2966.0</td>\n",
       "      <td>15954.0</td>\n",
       "    </tr>\n",
       "    <tr>\n",
       "      <th>1</th>\n",
       "      <td>24.0</td>\n",
       "      <td>2418783.0</td>\n",
       "      <td>97185.0</td>\n",
       "      <td>6146.0</td>\n",
       "      <td>12703.0</td>\n",
       "    </tr>\n",
       "    <tr>\n",
       "      <th>2</th>\n",
       "      <td>23.0</td>\n",
       "      <td>3191434.0</td>\n",
       "      <td>146033.0</td>\n",
       "      <td>5339.0</td>\n",
       "      <td>8181.0</td>\n",
       "    </tr>\n",
       "    <tr>\n",
       "      <th>3</th>\n",
       "      <td>24.0</td>\n",
       "      <td>343168.0</td>\n",
       "      <td>10172.0</td>\n",
       "      <td>666.0</td>\n",
       "      <td>2146.0</td>\n",
       "    </tr>\n",
       "    <tr>\n",
       "      <th>4</th>\n",
       "      <td>24.0</td>\n",
       "      <td>2095731.0</td>\n",
       "      <td>132235.0</td>\n",
       "      <td>1989.0</td>\n",
       "      <td>17518.0</td>\n",
       "    </tr>\n",
       "    <tr>\n",
       "      <th>...</th>\n",
       "      <td>...</td>\n",
       "      <td>...</td>\n",
       "      <td>...</td>\n",
       "      <td>...</td>\n",
       "      <td>...</td>\n",
       "    </tr>\n",
       "    <tr>\n",
       "      <th>41409</th>\n",
       "      <td>22.0</td>\n",
       "      <td>8259128.0</td>\n",
       "      <td>645888.0</td>\n",
       "      <td>4052.0</td>\n",
       "      <td>62610.0</td>\n",
       "    </tr>\n",
       "    <tr>\n",
       "      <th>41410</th>\n",
       "      <td>15.0</td>\n",
       "      <td>1685609.0</td>\n",
       "      <td>38160.0</td>\n",
       "      <td>1385.0</td>\n",
       "      <td>2657.0</td>\n",
       "    </tr>\n",
       "    <tr>\n",
       "      <th>41411</th>\n",
       "      <td>22.0</td>\n",
       "      <td>1064798.0</td>\n",
       "      <td>60008.0</td>\n",
       "      <td>382.0</td>\n",
       "      <td>3936.0</td>\n",
       "    </tr>\n",
       "    <tr>\n",
       "      <th>41412</th>\n",
       "      <td>24.0</td>\n",
       "      <td>1066451.0</td>\n",
       "      <td>48068.0</td>\n",
       "      <td>1032.0</td>\n",
       "      <td>3992.0</td>\n",
       "    </tr>\n",
       "    <tr>\n",
       "      <th>41413</th>\n",
       "      <td>1.0</td>\n",
       "      <td>5660813.0</td>\n",
       "      <td>192957.0</td>\n",
       "      <td>2846.0</td>\n",
       "      <td>13088.0</td>\n",
       "    </tr>\n",
       "  </tbody>\n",
       "</table>\n",
       "<p>40029 rows × 5 columns</p>\n",
       "</div>"
      ],
      "text/plain": [
       "       category_id      views     likes  dislikes  comment_count\n",
       "0             22.0   748374.0   57527.0    2966.0        15954.0\n",
       "1             24.0  2418783.0   97185.0    6146.0        12703.0\n",
       "2             23.0  3191434.0  146033.0    5339.0         8181.0\n",
       "3             24.0   343168.0   10172.0     666.0         2146.0\n",
       "4             24.0  2095731.0  132235.0    1989.0        17518.0\n",
       "...            ...        ...       ...       ...            ...\n",
       "41409         22.0  8259128.0  645888.0    4052.0        62610.0\n",
       "41410         15.0  1685609.0   38160.0    1385.0         2657.0\n",
       "41411         22.0  1064798.0   60008.0     382.0         3936.0\n",
       "41412         24.0  1066451.0   48068.0    1032.0         3992.0\n",
       "41413          1.0  5660813.0  192957.0    2846.0        13088.0\n",
       "\n",
       "[40029 rows x 5 columns]"
      ]
     },
     "execution_count": 59,
     "metadata": {},
     "output_type": "execute_result"
    }
   ],
   "source": [
    "newdf"
   ]
  },
  {
   "cell_type": "markdown",
   "id": "1d571f02",
   "metadata": {},
   "source": [
    "# Unique categories "
   ]
  },
  {
   "cell_type": "code",
   "execution_count": 72,
   "id": "ee959dff",
   "metadata": {},
   "outputs": [
    {
     "data": {
      "text/plain": [
       "array([22., 24., 23., 28.,  1., 25., 17., 10., 15., 27., 26.,  2., 19.,\n",
       "       nan, 20., 29., 43.])"
      ]
     },
     "execution_count": 72,
     "metadata": {},
     "output_type": "execute_result"
    }
   ],
   "source": [
    "df.category_id.unique()"
   ]
  },
  {
   "cell_type": "code",
   "execution_count": 73,
   "id": "d96ee9a8",
   "metadata": {},
   "outputs": [
    {
     "data": {
      "text/plain": [
       "17"
      ]
     },
     "execution_count": 73,
     "metadata": {},
     "output_type": "execute_result"
    }
   ],
   "source": [
    "len(df.category_id.unique())"
   ]
  },
  {
   "cell_type": "code",
   "execution_count": 64,
   "id": "fcf260df",
   "metadata": {},
   "outputs": [
    {
     "data": {
      "text/plain": [
       "<AxesSubplot:>"
      ]
     },
     "execution_count": 64,
     "metadata": {},
     "output_type": "execute_result"
    },
    {
     "data": {
      "image/png": "[encoded data removed]",
      "text/plain": [
       "<Figure size 432x288 with 1 Axes>"
      ]
     },
     "metadata": {
      "needs_background": "light"
     },
     "output_type": "display_data"
    }
   ],
   "source": [
    "df.category_id.value_counts().plot(kind=\"barh\")"
   ]
  },
  {
   "cell_type": "markdown",
   "id": "b85d4734",
   "metadata": {},
   "source": [
    "# column types "
   ]
  },
  {
   "cell_type": "code",
   "execution_count": 67,
   "id": "37a749b2",
   "metadata": {},
   "outputs": [
    {
     "data": {
      "text/plain": [
       "video_id                   object\n",
       "trending_date              object\n",
       "title                      object\n",
       "channel_title              object\n",
       "category_id               float64\n",
       "publish_time               object\n",
       "tags                       object\n",
       "views                     float64\n",
       "likes                     float64\n",
       "dislikes                  float64\n",
       "comment_count             float64\n",
       "thumbnail_link             object\n",
       "comments_disabled          object\n",
       "ratings_disabled           object\n",
       "video_error_or_removed     object\n",
       "description                object\n",
       "dtype: object"
      ]
     },
     "execution_count": 67,
     "metadata": {},
     "output_type": "execute_result"
    }
   ],
   "source": [
    "df.dtypes"
   ]
  },
  {
   "cell_type": "markdown",
   "id": "d001c972",
   "metadata": {},
   "source": [
    "# the columns types adjustments : \n",
    "-trending_date to date  \n",
    "-publish time to time \n",
    "-coments_disabled,ratings_disabled,video_error_or_removed     to boolean\n"
   ]
  },
  {
   "cell_type": "markdown",
   "id": "1890b814",
   "metadata": {},
   "source": [
    "# Get how many tags you have and which are the most common tags "
   ]
  },
  {
   "cell_type": "code",
   "execution_count": 82,
   "id": "ee9ddaed",
   "metadata": {},
   "outputs": [],
   "source": [
    "tags=df.tags"
   ]
  },
  {
   "cell_type": "code",
   "execution_count": 93,
   "id": "82e3295e",
   "metadata": {},
   "outputs": [
    {
     "data": {
      "text/plain": [
       "41415"
      ]
     },
     "execution_count": 93,
     "metadata": {},
     "output_type": "execute_result"
    }
   ],
   "source": [
    "len(tags)"
   ]
  },
  {
   "cell_type": "code",
   "execution_count": 87,
   "id": "f1c07b5d",
   "metadata": {},
   "outputs": [],
   "source": [
    "text=\"\"\n",
    "for i in tags :\n",
    "    text=text+str(i)\n",
    "    \n"
   ]
  },
  {
   "cell_type": "code",
   "execution_count": 97,
   "id": "c77ee766",
   "metadata": {},
   "outputs": [],
   "source": [
    "x = text.split(\"|\")\n"
   ]
  },
  {
   "cell_type": "code",
   "execution_count": 114,
   "id": "d7e6f0ec",
   "metadata": {},
   "outputs": [
    {
     "name": "stdout",
     "output_type": "stream",
     "text": [
      "tags number is  767235\n"
     ]
    }
   ],
   "source": [
    "print(\"tags number is \", len(x))"
   ]
  },
  {
   "cell_type": "code",
   "execution_count": 103,
   "id": "3aae4956",
   "metadata": {},
   "outputs": [],
   "source": [
    "d=pd.DataFrame(x)"
   ]
  },
  {
   "cell_type": "code",
   "execution_count": 105,
   "id": "8e0be8f9",
   "metadata": {},
   "outputs": [],
   "source": [
    "d.columns=['tags']"
   ]
  },
  {
   "cell_type": "code",
   "execution_count": 110,
   "id": "a66de6d2",
   "metadata": {},
   "outputs": [],
   "source": [
    "unique=d['tags'].unique()"
   ]
  },
  {
   "cell_type": "code",
   "execution_count": 113,
   "id": "34792c78",
   "metadata": {},
   "outputs": [
    {
     "data": {
      "text/plain": [
       "75803"
      ]
     },
     "execution_count": 113,
     "metadata": {},
     "output_type": "execute_result"
    }
   ],
   "source": [
    "len(unique)"
   ]
  },
  {
   "cell_type": "code",
   "execution_count": 115,
   "id": "e31b0178",
   "metadata": {},
   "outputs": [
    {
     "data": {
      "text/plain": [
       "0    \"funny\"\n",
       "Name: tags, dtype: object"
      ]
     },
     "execution_count": 115,
     "metadata": {},
     "output_type": "execute_result"
    }
   ],
   "source": [
    "d['tags'].mode()"
   ]
  },
  {
   "cell_type": "code",
   "execution_count": 124,
   "id": "2a34a4f7",
   "metadata": {},
   "outputs": [],
   "source": [
    "\n",
    "common=d['tags'].value_counts()[:100]"
   ]
  },
  {
   "cell_type": "code",
   "execution_count": 125,
   "id": "2efb7a72",
   "metadata": {},
   "outputs": [
    {
     "data": {
      "text/plain": [
       "\"funny\"       3452\n",
       "\"comedy\"      2788\n",
       "\"how to\"      1533\n",
       "\"humor\"       1171\n",
       "\"music\"       1170\n",
       "              ... \n",
       "\"lol\"          339\n",
       "\"cook\"         333\n",
       "\"laugh\"        331\n",
       "\"pop\"          330\n",
       "\"lelepons\"     329\n",
       "Name: tags, Length: 100, dtype: int64"
      ]
     },
     "execution_count": 125,
     "metadata": {},
     "output_type": "execute_result"
    }
   ],
   "source": [
    "common"
   ]
  },
  {
   "cell_type": "code",
   "execution_count": null,
   "id": "62bddf6d",
   "metadata": {},
   "outputs": [],
   "source": []
  }
 ],
 "metadata": {
  "kernelspec": {
   "display_name": "Python 3 (ipykernel)",
   "language": "python",
   "name": "python3"
  },
  "language_info": {
   "codemirror_mode": {
    "name": "ipython",
    "version": 3
   },
   "file_extension": ".py",
   "mimetype": "text/x-python",
   "name": "python",
   "nbconvert_exporter": "python",
   "pygments_lexer": "ipython3",
   "version": "3.8.12"
  }
 },
 "nbformat": 4,
 "nbformat_minor": 5
}
